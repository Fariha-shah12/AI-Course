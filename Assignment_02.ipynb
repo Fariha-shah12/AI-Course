{
 "cells": [
  {
   "cell_type": "code",
   "execution_count": 9,
   "metadata": {},
   "outputs": [
    {
     "name": "stdout",
     "output_type": "stream",
     "text": [
      "fariha\n"
     ]
    }
   ],
   "source": [
    "print (\"fariha\")"
   ]
  },
  {
   "cell_type": "code",
   "execution_count": 8,
   "metadata": {},
   "outputs": [
    {
     "name": "stdout",
     "output_type": "stream",
     "text": [
      "enter the radius :4.7\n",
      "area is : 69.40678000000001\n"
     ]
    }
   ],
   "source": [
    "#Ex : 1\n",
    "# a) Write a Python program which accepts the radius of a circle from the user and compute the area\n",
    "# b) Create a program that asks the user to enter their name and their age. Print out a message addressed to them that tells them the year that they will turn 100 years old.\n",
    "#AREA PROGRAM  PYTHON\n",
    "radius = float( input(\"enter the radius :\"))\n",
    "area = 3.142*radius**2\n",
    "print(\"area is :\" ,area)"
   ]
  },
  {
   "cell_type": "code",
   "execution_count": 10,
   "metadata": {},
   "outputs": [
    {
     "name": "stdout",
     "output_type": "stream",
     "text": [
      "ener your age :22\n",
      "you will turn 100 in:  2098\n"
     ]
    }
   ],
   "source": [
    "#Exercise 1) part B\n",
    "age = int(input(\"ener your age :\"))\n",
    "cal= 2020 - 22 + 100\n",
    "print (\"you will turn 100 in: \" ,cal)"
   ]
  },
  {
   "cell_type": "code",
   "execution_count": 7,
   "metadata": {},
   "outputs": [
    {
     "name": "stdout",
     "output_type": "stream",
     "text": [
      "enter the number :67\n",
      "number is odd\n"
     ]
    }
   ],
   "source": [
    "#Ex : 2\n",
    "#Ask the user for a number. Depending on whether the number is even or odd, print out an appropriate message to the user.\n",
    "number =int(input(\"enter the number :\"))\n",
    "if  number % 2 == 0 :\n",
    "    print(\"x is even\")\n",
    "elif  number % 2 == 1 :\n",
    "    print(\"number is odd\")"
   ]
  },
  {
   "cell_type": "code",
   "execution_count": 6,
   "metadata": {},
   "outputs": [
    {
     "name": "stdout",
     "output_type": "stream",
     "text": [
      "enter the colour :green\n",
      "you got 5 points\n"
     ]
    }
   ],
   "source": [
    "#Ex : 3\n",
    "#Imagine an alien was just shot down in a game. Create a variable called alien_color and assign it a value of 'green', 'yellow', or 'red'.\n",
    "#Write an if statement to test whether the alien’s color is green. If it is, print a message that the player just earned 5 points.\n",
    "#Write one version of this program that passes the if test and another that fails. (The version that fails will have no output.)\n",
    "alien_colour = 'green'\n",
    "alien_colour1= (input(\"enter the colour :\")) \n",
    "if alien_colour == alien_colour1 :\n",
    "    print(\"you got 5 points\")\n",
    "else :\n",
    "    print(\"no points\")\n"
   ]
  },
  {
   "cell_type": "code",
   "execution_count": 5,
   "metadata": {},
   "outputs": [
    {
     "name": "stdout",
     "output_type": "stream",
     "text": [
      "enter the colour :yellow\n",
      "you got 10 points\n"
     ]
    }
   ],
   "source": [
    "#Ex : 4\n",
    "#Choose a color for an alien as you did in Exercise 3, and write an if-else chain.\n",
    "\n",
    "#If the alien’s color is green, print a statement that the player just earned 5 points for shooting the alien.\n",
    "#If the alien’s color isn’t green, print a statement that the player just earned 10 points.\n",
    "#Write one version of this program that runs the if block and another that runs the else block.\n",
    "alien_colour= 'green'\n",
    "alien_colour1 = (input(\"enter the colour :\"))\n",
    "if alien_colour == alien_colour1:\n",
    "    print(\"you got 5 points\")\n",
    "else :\n",
    "    print(\"you got 10 points\")\n"
   ]
  },
  {
   "cell_type": "code",
   "execution_count": 4,
   "metadata": {},
   "outputs": [
    {
     "name": "stdout",
     "output_type": "stream",
     "text": [
      "enter your age :56\n",
      "adult\n"
     ]
    }
   ],
   "source": [
    "#Write an if-elif-else chain that determines a person’s stage of life. Set a value for the variable age, and then:\n",
    "\n",
    "#If the person is less than 2 years old, print a message that the person is a baby.\n",
    "#If the person is at least 2 years old but less than 4, print a message that the person is a toddler.\n",
    "#If the person is at least 4 years old but less than 13, print a message that the person is a kid.\n",
    "#If the person is at least 13 years old but less than 20, print a message that the person is a teenager.\n",
    "#If the person is at least 20 years old but less than 65, print a message that the person is an adult.\n",
    "#If the person is age 65 or older, print a message that the person is an elder\n",
    "age= int(input(\"enter your age :\"))\n",
    "if age < 2 :\n",
    "    print(\"Baby\")\n",
    "if age < 4:\n",
    "    print(\"Toddler\")\n",
    "elif age < 13 :\n",
    "    print (\"kid\")\n",
    "elif age < 20 :\n",
    "    print (\"teenager\")\n",
    "elif age < 65:\n",
    "    print(\"adult\")\n",
    "elif age > 65:\n",
    "    print(\"older\")\n"
   ]
  },
  {
   "cell_type": "code",
   "execution_count": 3,
   "metadata": {},
   "outputs": [
    {
     "name": "stdout",
     "output_type": "stream",
     "text": [
      "enter your eng marks :66\n",
      "enter your math marks :77\n",
      "enter your phy marks :89\n",
      "enter your chem marks :56\n",
      "enter your bio marks :62\n",
      "obtained_marks 350\n",
      "percentage 70.0\n",
      "your grade is A\n"
     ]
    }
   ],
   "source": [
    "eng= int(input(\"enter your eng marks :\"))\n",
    "math= int(input(\"enter your math marks :\"))\n",
    "phy= int(input(\"enter your phy marks :\"))\n",
    "chem= int(input(\"enter your chem marks :\"))\n",
    "bio= int(input(\"enter your bio marks :\"))\n",
    "obtained_marks = eng+ math+ phy+ chem+ bio\n",
    "total=500\n",
    "percentage=(obtained_marks*100)/total\n",
    "print (\"obtained_marks\",obtained_marks)\n",
    "print (\"percentage\",percentage)\n",
    "if percentage == 90 :\n",
    "    print(\"your grade is A+\")\n",
    "elif percentage == 70 :\n",
    "    print(\"your grade is A\")\n",
    "elif percentage == 60 :\n",
    "    print(\"your grade is B\")\n",
    "elif percentage == 50 :\n",
    "    print(\"your grade is C\")\n",
    "else :\n",
    "    print(\"you have failed your exam\")"
   ]
  },
  {
   "cell_type": "code",
   "execution_count": null,
   "metadata": {},
   "outputs": [],
   "source": []
  }
 ],
 "metadata": {
  "kernelspec": {
   "display_name": "Python 3",
   "language": "python",
   "name": "python3"
  },
  "language_info": {
   "codemirror_mode": {
    "name": "ipython",
    "version": 3
   },
   "file_extension": ".py",
   "mimetype": "text/x-python",
   "name": "python",
   "nbconvert_exporter": "python",
   "pygments_lexer": "ipython3",
   "version": "3.7.4"
  }
 },
 "nbformat": 4,
 "nbformat_minor": 2
}
